{
 "cells": [
  {
   "cell_type": "code",
   "execution_count": 1,
   "id": "3023e250",
   "metadata": {},
   "outputs": [
    {
     "data": {
      "text/plain": [
       "'\\ndef add_flame_data(df, t, e):\\n    if (e == 0):\\n        profile_file = f\"../data/baseline_profile_{query_type}_t_{t}.csv\"\\n        class_name = \"gk/GKbaseline\"\\n    else :\\n        profile_file = f\"../data/profile_t_{t}_e_{e}.csv\"\\n        class_name = \"gk/GK\"\\n    \\n    df_flame = pd.read_csv(profile_file, names=[\"call\"])\\n    df_flame[\\'target\\'] = t\\n    df_flame[\\'epsilon\\'] = e\\n    #df_flame = pd.concat(df_flame)\\n    df_flame[\"call\"] = df_flame[\"call\"].astype(\"string\")\\n    df_flame[\"call\"].replace({None: \"\"}, inplace=True)\\n    df_flame[\"num\"] = df_flame[\"call\"].apply(lambda x: x.split(\";\")[-1].split(\" \")[-1])\\n    df_flame[\"num\"] = pd.to_numeric(df_flame[\"num\"], errors=\"coerce\")\\n    total = df_flame[(df_flame[\"target\"] == t) & (df_flame[\"epsilon\"] == e) ][\"num\"].sum()\\n    df[\"proc_update\"] = df_flame[df_flame[\"call\"].str.contains(f\"{class_name}.update\")][\"num\"].sum()/total\\n    df[\"proc_updatePure\"] = df_flame[df_flame[\"call\"].str.contains(f\"gk/GK.updatePure\")][\"num\"].sum()/total\\n    df[\"proc_compress\"] = df_flame[df_flame[\"call\"].str.contains(f\"gk/GK.compress\")][\"num\"].sum()/total\\n    df[\"proc_javaIO\"] = df_flame[df_flame[\"call\"].str.contains(\"java.io\")][\"num\"].sum()/total\\n    df[\"proc_queryRank\"] = df_flame[df_flame[\"call\"].str.contains(f\"{class_name}.rank\")][\"num\"].sum()/total\\n    return df'"
      ]
     },
     "execution_count": 1,
     "metadata": {},
     "output_type": "execute_result"
    }
   ],
   "source": [
    "import pandas as pd\n",
    "import seaborn as sns\n",
    "import matplotlib.pyplot as plt\n",
    "\n",
    "M=3577297\n",
    "query_type = \"quant\"\n",
    "TARGETS = [0, 3, 5, 6, 7]\n",
    "EPS = [0.01 ,0.05, 0.1, 0.2]\n",
    "\n",
    "'''\n",
    "def add_flame_data(df, t, e):\n",
    "    if (e == 0):\n",
    "        profile_file = f\"../data/baseline_profile_{query_type}_t_{t}.csv\"\n",
    "        class_name = \"gk/GKbaseline\"\n",
    "    else :\n",
    "        profile_file = f\"../data/profile_t_{t}_e_{e}.csv\"\n",
    "        class_name = \"gk/GK\"\n",
    "    \n",
    "    df_flame = pd.read_csv(profile_file, names=[\"call\"])\n",
    "    df_flame['target'] = t\n",
    "    df_flame['epsilon'] = e\n",
    "    #df_flame = pd.concat(df_flame)\n",
    "    df_flame[\"call\"] = df_flame[\"call\"].astype(\"string\")\n",
    "    df_flame[\"call\"].replace({None: \"\"}, inplace=True)\n",
    "    df_flame[\"num\"] = df_flame[\"call\"].apply(lambda x: x.split(\";\")[-1].split(\" \")[-1])\n",
    "    df_flame[\"num\"] = pd.to_numeric(df_flame[\"num\"], errors=\"coerce\")\n",
    "    total = df_flame[(df_flame[\"target\"] == t) & (df_flame[\"epsilon\"] == e) ][\"num\"].sum()\n",
    "    df[\"proc_update\"] = df_flame[df_flame[\"call\"].str.contains(f\"{class_name}.update\")][\"num\"].sum()/total\n",
    "    df[\"proc_updatePure\"] = df_flame[df_flame[\"call\"].str.contains(f\"gk/GK.updatePure\")][\"num\"].sum()/total\n",
    "    df[\"proc_compress\"] = df_flame[df_flame[\"call\"].str.contains(f\"gk/GK.compress\")][\"num\"].sum()/total\n",
    "    df[\"proc_javaIO\"] = df_flame[df_flame[\"call\"].str.contains(\"java.io\")][\"num\"].sum()/total\n",
    "    df[\"proc_queryRank\"] = df_flame[df_flame[\"call\"].str.contains(f\"{class_name}.rank\")][\"num\"].sum()/total\n",
    "    return df'''"
   ]
  },
  {
   "cell_type": "code",
   "execution_count": 2,
   "id": "d24d77bd",
   "metadata": {},
   "outputs": [
    {
     "name": "stderr",
     "output_type": "stream",
     "text": [
      "/tmp/ipykernel_19574/3921285378.py:5: FutureWarning: The default value of regex will change from True to False in a future version. In addition, single character regular expressions will *not* be treated as literal strings when regex=True.\n",
      "  dres[query_type] = dres[query_type].str.replace(\"(\", \"\").astype(\"int\")\n",
      "/tmp/ipykernel_19574/3921285378.py:6: FutureWarning: The default value of regex will change from True to False in a future version. In addition, single character regular expressions will *not* be treated as literal strings when regex=True.\n",
      "  dres[\"rank\"] = dres[\"rank\"].str.replace(\")\", \"\").astype(\"int\")\n"
     ]
    }
   ],
   "source": [
    "###Baseline###\n",
    "df_list = []\n",
    "for t in TARGETS:\n",
    "    dres = pd.read_csv(f\"../data/BASELINE_{query_type.upper()}_T_{t}.csv\", names=[query_type, \"rank\"])\n",
    "    dres[query_type] = dres[query_type].str.replace(\"(\", \"\").astype(\"int\")\n",
    "    dres[\"rank\"] = dres[\"rank\"].str.replace(\")\", \"\").astype(\"int\")\n",
    "\n",
    "    dquery = pd.read_csv(f\"../data/INPUT_query_{query_type}.csv\", names=[\"query_val\"])\n",
    "\n",
    "    df = pd.concat([dres,dquery], axis=1)\n",
    "    df['target'] = t\n",
    "    \n",
    "    dtime = pd.read_csv(\"../data/baseline_gk_trace.csv\")\n",
    "    df = df.set_index('target').join(dtime[dtime[\"query\"]==query_type].set_index('target'))\n",
    "    \n",
    "    df['tempo_inicio'] = df['tempo_inicio'].astype('datetime64[ns]')\n",
    "    df['tempo_fim'] = df['tempo_fim'].astype('datetime64[ns]')\n",
    "    df['tempo_exec'] = (df['tempo_fim'] - df['tempo_inicio'])\n",
    "    df.drop(['tempo_inicio', 'tempo_fim'], axis=1, inplace=True)\n",
    "    df = add_flame_data(df,t,0)\n",
    "    \n",
    "    df_list.append(df.reset_index())\n",
    "df_base = pd.concat(df_list)"
   ]
  },
  {
   "cell_type": "code",
   "execution_count": 3,
   "id": "5be54025",
   "metadata": {},
   "outputs": [
    {
     "name": "stderr",
     "output_type": "stream",
     "text": [
      "/tmp/ipykernel_19574/1198056814.py:6: FutureWarning: The default value of regex will change from True to False in a future version. In addition, single character regular expressions will *not* be treated as literal strings when regex=True.\n",
      "  dres[query_type] = dres[query_type].str.replace(\"(\",\"\").astype('int')\n",
      "/tmp/ipykernel_19574/1198056814.py:7: FutureWarning: The default value of regex will change from True to False in a future version. In addition, single character regular expressions will *not* be treated as literal strings when regex=True.\n",
      "  dres[\"rank\"] = dres[\"rank\"].str.replace(\")\",\"\").astype('int')\n"
     ]
    }
   ],
   "source": [
    "###QDIGEST###\n",
    "df_list = []\n",
    "for t in TARGETS:\n",
    "    for e in EPS:\n",
    "        dres = pd.read_csv(f\"../data/GK_{query_type.upper()}_T_{t}_E_{e}.csv\", names=[query_type,\"rank\"])\n",
    "        dres[query_type] = dres[query_type].str.replace(\"(\",\"\").astype('int')\n",
    "        dres[\"rank\"] = dres[\"rank\"].str.replace(\")\",\"\").astype('int')\n",
    "        # .. _t_{t}.csv\n",
    "        dquery = pd.read_csv(f\"../data/INPUT_query_{query_type}.csv\", names=[\"query_val\"])\n",
    "        \n",
    "        df = pd.concat([dres,dquery], axis=1)\n",
    "        df['target'] = t\n",
    "        df['epsilon'] = e\n",
    "        df = df.set_index([\"target\", \"epsilon\"])\n",
    "        \n",
    "        dtime = pd.read_csv(\"../data/gk_profile_trace.csv\")\n",
    "        dtime = dtime.set_index(['target', 'epsilon'])\n",
    "        df = df.join(dtime[dtime[\"query\"] == query_type])\n",
    "        \n",
    "        df['tempo_inicio'] = df['tempo_inicio'].astype('datetime64[ns]')\n",
    "        df['tempo_fim'] = df['tempo_fim'].astype('datetime64[ns]')\n",
    "        df['tempo_exec'] = (df['tempo_fim'] - df['tempo_inicio'])\n",
    "        df.drop(['tempo_inicio', 'tempo_fim'], axis=1, inplace=True)\n",
    "        \n",
    "        df = add_flame_data(df,t,e)\n",
    "        df_list.append(df.reset_index())\n",
    "df_gk = pd.concat(df_list)"
   ]
  },
  {
   "cell_type": "code",
   "execution_count": 4,
   "id": "d22dc84f",
   "metadata": {
    "scrolled": true
   },
   "outputs": [],
   "source": [
    "df_base = df_base.set_index([\"target\", \"query_val\"])\n",
    "df_base[\"epsilon\"] = 0\n",
    "df_gk = df_gk.set_index([\"target\", \"query_val\"])\n",
    "\n",
    "#df_base[\"erro\"] = abs(df_base[\"rank\"] - df_base[\"rank\"] )\n",
    "#df_base[\"erro_max\"] =  df_base[\"epsilon\"] * M\n",
    "\n",
    "#df_gk[\"erro\"] = abs(df_gk[\"rank\"] - df_gk[\"rank\"] )\n",
    "#df_gk[\"erro_max\"] =  df_gk[\"epsilon\"] * M\n",
    "\n",
    "df = df_base.join(df_gk, lsuffix=\"_baseline\")\n",
    "#df = df_gk"
   ]
  },
  {
   "cell_type": "code",
   "execution_count": 5,
   "id": "b52a5826",
   "metadata": {},
   "outputs": [
    {
     "data": {
      "text/plain": [
       "quantil_baseline                      int64\n",
       "rank_baseline                         int64\n",
       "query_baseline                       object\n",
       "tamanho_baseline                     object\n",
       "tempo_queries_baseline               object\n",
       "tempo_exec_baseline         timedelta64[ns]\n",
       "proc_update_baseline                float64\n",
       "proc_updatePure_baseline            float64\n",
       "proc_compress_baseline              float64\n",
       "proc_javaIO_baseline                float64\n",
       "proc_queryRank_baseline             float64\n",
       "epsilon_baseline                      int64\n",
       "epsilon                             float64\n",
       "quantil                               int64\n",
       "rank                                  int64\n",
       "query                                object\n",
       "tamanho                               int64\n",
       "tempo_queries                       float64\n",
       "tempo_exec                  timedelta64[ns]\n",
       "proc_update                         float64\n",
       "proc_updatePure                     float64\n",
       "proc_compress                       float64\n",
       "proc_javaIO                         float64\n",
       "proc_queryRank                      float64\n",
       "dtype: object"
      ]
     },
     "execution_count": 5,
     "metadata": {},
     "output_type": "execute_result"
    }
   ],
   "source": [
    "df.dtypes"
   ]
  },
  {
   "cell_type": "code",
   "execution_count": 6,
   "id": "71bbbf37",
   "metadata": {
    "scrolled": true
   },
   "outputs": [
    {
     "name": "stdout",
     "output_type": "stream",
     "text": [
      "Index(['quantil_baseline', 'rank_baseline', 'query_baseline',\n",
      "       'tamanho_baseline', 'tempo_queries_baseline', 'tempo_exec_baseline',\n",
      "       'proc_update_baseline', 'proc_updatePure_baseline',\n",
      "       'proc_compress_baseline', 'proc_javaIO_baseline',\n",
      "       'proc_queryRank_baseline', 'epsilon_baseline', 'epsilon', 'quantil',\n",
      "       'rank', 'query', 'tamanho', 'tempo_queries', 'tempo_exec',\n",
      "       'proc_update', 'proc_updatePure', 'proc_compress', 'proc_javaIO',\n",
      "       'proc_queryRank'],\n",
      "      dtype='object')\n"
     ]
    },
    {
     "data": {
      "text/plain": [
       "400"
      ]
     },
     "execution_count": 6,
     "metadata": {},
     "output_type": "execute_result"
    }
   ],
   "source": [
    "print(df.columns)\n",
    "df[\"erro\"] = abs(df[f\"rank_baseline\"] - df[\"rank\"] )\n",
    "df[\"erro_max\"] =  df[\"epsilon\"] * M\n",
    "\n",
    "#df_gk = df_gk.reset_index()\n",
    "#df_base = df_base.reset_index()\n",
    "\n",
    "df = df.reset_index()\n",
    "\n",
    "len(df)"
   ]
  },
  {
   "cell_type": "raw",
   "id": "6bce2b2b",
   "metadata": {},
   "source": [
    "import numpy as np\n",
    "cols_base = ['rank', 'tempo_exec', 'proc_update', 'proc_javaIO', 'proc_queryRank']\n",
    "for c in cols_base:\n",
    "    df_gk[f'{c}_baseline'] = 0\n",
    "    for t in TARGETS:\n",
    "        for q in df_gk[\"queryR\"].unique():\n",
    "            df_gk[f'{c}_baseline'] = np.where(\n",
    "                (df_gk[\"queryR\"] == q)\n",
    "                & (df_gk[\"target\"] == t),\n",
    "                df_base[(df_base[\"target\"]==t)][c].iloc[0],\n",
    "                df_gk[f'{c}_baseline']\n",
    "    )"
   ]
  },
  {
   "cell_type": "raw",
   "id": "e908ef06",
   "metadata": {},
   "source": [
    "df = df_gk\n",
    "df[\"erro\"] = abs(df[\"rank_baseline\"] - df[\"rank\"] )\n",
    "df[\"erro_max\"] =  df[\"epsilon\"] * M"
   ]
  },
  {
   "cell_type": "raw",
   "id": "35243e8d",
   "metadata": {},
   "source": [
    "for t in TARGETS:\n",
    "    g = sns.FacetGrid( df[(df[\"target\"]==t)], height=4)\n",
    "    #g.map(sns.histplot, \"rank_baseline\", kde=True, color=\"red\")\n",
    "    g.map(sns.histplot, \"queryR\", kde=True)\n"
   ]
  },
  {
   "cell_type": "code",
   "execution_count": 7,
   "id": "9d4512cc",
   "metadata": {},
   "outputs": [
    {
     "data": {
      "text/plain": [
       "target                                int64\n",
       "query_val                             int64\n",
       "quantil_baseline                      int64\n",
       "rank_baseline                         int64\n",
       "query_baseline                       object\n",
       "tamanho_baseline                     object\n",
       "tempo_queries_baseline               object\n",
       "tempo_exec_baseline         timedelta64[ns]\n",
       "proc_update_baseline                float64\n",
       "proc_updatePure_baseline            float64\n",
       "proc_compress_baseline              float64\n",
       "proc_javaIO_baseline                float64\n",
       "proc_queryRank_baseline             float64\n",
       "epsilon_baseline                      int64\n",
       "epsilon                             float64\n",
       "quantil                               int64\n",
       "rank                                  int64\n",
       "query                                object\n",
       "tamanho                               int64\n",
       "tempo_queries                       float64\n",
       "tempo_exec                  timedelta64[ns]\n",
       "proc_update                         float64\n",
       "proc_updatePure                     float64\n",
       "proc_compress                       float64\n",
       "proc_javaIO                         float64\n",
       "proc_queryRank                      float64\n",
       "erro                                  int64\n",
       "erro_max                            float64\n",
       "dtype: object"
      ]
     },
     "execution_count": 7,
     "metadata": {},
     "output_type": "execute_result"
    }
   ],
   "source": [
    "df.dtypes"
   ]
  },
  {
   "cell_type": "code",
   "execution_count": 8,
   "id": "c7096474",
   "metadata": {
    "scrolled": true
   },
   "outputs": [
    {
     "name": "stderr",
     "output_type": "stream",
     "text": [
      "/tmp/ipykernel_19574/3052116475.py:1: FutureWarning: casting timedelta64[ns] values to int64 with .astype(...) is deprecated and will raise in a future version. Use .view(...) instead.\n",
      "  df[\"tempo_exec_int\"] = df[\"tempo_exec\"].astype(\"int\")/1000000000\n"
     ]
    }
   ],
   "source": [
    "df[\"tempo_exec_int\"] = df[\"tempo_exec\"].astype(\"int\")/1000000000"
   ]
  },
  {
   "cell_type": "code",
   "execution_count": 9,
   "id": "507376cf",
   "metadata": {},
   "outputs": [],
   "source": [
    "df[\"tempo_update\"] = df[\"proc_update\"] * df[\"tempo_exec_int\"]\n",
    "df[\"tempo_query\"] = df[\"proc_queryRank\"] * df[\"tempo_exec_int\"]\n",
    "df[\"tempo_io\"] = df[\"proc_javaIO\"] * df[\"tempo_exec_int\"]"
   ]
  },
  {
   "cell_type": "code",
   "execution_count": 10,
   "id": "fd53f2e1",
   "metadata": {},
   "outputs": [
    {
     "name": "stderr",
     "output_type": "stream",
     "text": [
      "/tmp/ipykernel_19574/1178300853.py:1: FutureWarning: casting timedelta64[ns] values to int64 with .astype(...) is deprecated and will raise in a future version. Use .view(...) instead.\n",
      "  df[\"tempo_exec_int_baseline\"] = df[\"tempo_exec_baseline\"].astype(\"int\")/1000000000\n"
     ]
    }
   ],
   "source": [
    "df[\"tempo_exec_int_baseline\"] = df[\"tempo_exec_baseline\"].astype(\"int\")/1000000000\n",
    "\n",
    "\n",
    "df[\"tempo_update_baseline\"] = df[\"proc_update_baseline\"] * df[\"tempo_exec_int_baseline\"]\n",
    "df[\"tempo_query_baseline\"] = df[\"proc_queryRank_baseline\"] * df[\"tempo_exec_int_baseline\"]\n",
    "df[\"tempo_io_baseline\"] = df[\"proc_javaIO_baseline\"] * df[\"tempo_exec_int_baseline\"]"
   ]
  },
  {
   "cell_type": "code",
   "execution_count": 11,
   "id": "322eadfb",
   "metadata": {},
   "outputs": [],
   "source": [
    "#TODO tempo para montar estrutura\n",
    "df_heatMap = df.drop_duplicates(subset=[\"epsilon\", \"target\"])"
   ]
  },
  {
   "cell_type": "code",
   "execution_count": 12,
   "id": "6c324ebc",
   "metadata": {},
   "outputs": [
    {
     "data": {
      "image/png": "[encoded data removed]",
      "text/plain": [
       "<Figure size 432x288 with 2 Axes>"
      ]
     },
     "metadata": {
      "needs_background": "light"
     },
     "output_type": "display_data"
    }
   ],
   "source": [
    "erro = df_heatMap.groupby([\"target\", \"epsilon\"])[\"erro\"].mean().reset_index().pivot(\"target\", \"epsilon\", \"erro\")\n",
    "f = sns.heatmap(erro/M, annot=True)\n",
    "f.get_figure().savefig(\"../img/heatmap_ERRO\")"
   ]
  },
  {
   "cell_type": "code",
   "execution_count": 13,
   "id": "96626d9f",
   "metadata": {},
   "outputs": [
    {
     "data": {
      "image/png": "[encoded data removed]",
      "text/plain": [
       "<Figure size 432x288 with 2 Axes>"
      ]
     },
     "metadata": {
      "needs_background": "light"
     },
     "output_type": "display_data"
    }
   ],
   "source": [
    "tempos = df_heatMap.pivot(\"target\", \"epsilon\", \"tempo_exec_int\")\n",
    "f = sns.heatmap(tempos, annot=True)\n",
    "f.get_figure().savefig(\"../img/heatmap_TEMPO\")"
   ]
  },
  {
   "cell_type": "code",
   "execution_count": 14,
   "id": "c37f8505",
   "metadata": {},
   "outputs": [
    {
     "data": {
      "image/png": "[encoded data removed]",
      "text/plain": [
       "<Figure size 432x288 with 2 Axes>"
      ]
     },
     "metadata": {
      "needs_background": "light"
     },
     "output_type": "display_data"
    }
   ],
   "source": [
    "tempos = df_heatMap.pivot(\"target\", \"epsilon\", \"tempo_update\")\n",
    "f = sns.heatmap(tempos, annot=True)\n",
    "f.get_figure().savefig(\"../img/heatmap_TEMPO_UPDATE\")"
   ]
  },
  {
   "cell_type": "code",
   "execution_count": 15,
   "id": "17a284fa",
   "metadata": {},
   "outputs": [
    {
     "data": {
      "image/png": "[encoded data removed]",
      "text/plain": [
       "<Figure size 432x288 with 2 Axes>"
      ]
     },
     "metadata": {
      "needs_background": "light"
     },
     "output_type": "display_data"
    }
   ],
   "source": [
    "tempos = df_heatMap.pivot(\"target\", \"epsilon\", \"proc_update\")\n",
    "f = sns.heatmap(tempos, annot=True)\n",
    "f.get_figure().savefig(\"../img/heatmap_PROC_UPDATE\")"
   ]
  },
  {
   "cell_type": "code",
   "execution_count": 16,
   "id": "df70fa46",
   "metadata": {},
   "outputs": [
    {
     "data": {
      "image/png": "[encoded data removed]",
      "text/plain": [
       "<Figure size 432x288 with 2 Axes>"
      ]
     },
     "metadata": {
      "needs_background": "light"
     },
     "output_type": "display_data"
    }
   ],
   "source": [
    "tempos = df_heatMap.pivot(\"target\", \"epsilon\", \"tempo_io\")\n",
    "f = sns.heatmap(tempos, annot=True)\n",
    "f.get_figure().savefig(\"../img/heatmap_TEMPO_IO\")"
   ]
  },
  {
   "cell_type": "code",
   "execution_count": 17,
   "id": "abc1d23b",
   "metadata": {},
   "outputs": [
    {
     "data": {
      "image/png": "[encoded data removed]",
      "text/plain": [
       "<Figure size 432x288 with 2 Axes>"
      ]
     },
     "metadata": {
      "needs_background": "light"
     },
     "output_type": "display_data"
    }
   ],
   "source": [
    "tempos = df_heatMap.pivot(\"target\", \"epsilon\", \"proc_javaIO\")\n",
    "f = sns.heatmap(tempos, annot=True)\n",
    "f.get_figure().savefig(\"../img/heatmap_PROC_IO\")"
   ]
  },
  {
   "cell_type": "code",
   "execution_count": 9,
   "id": "dd1b3666",
   "metadata": {},
   "outputs": [],
   "source": [
    "baseline = [479854,\n",
    "602049,\n",
    "108326,\n",
    "900190,\n",
    "1316771,\n",
    "1512492,\n",
    "111229,\n",
    "193631,\n",
    "401235,\n",
    "678598,\n",
    "1012878,\n",
    "14269,\n",
    "1375277,\n",
    "777775,\n",
    "165750,\n",
    "157673,\n",
    "815954,\n",
    "1225607,\n",
    "1359262,\n",
    "292023,\n",
    "500238,\n",
    "1355055,\n",
    "559485,\n",
    "61203,\n",
    "865247,\n",
    "905423,\n",
    "23417,\n",
    "878169,\n",
    "346011,\n",
    "812426,\n",
    "915381,\n",
    "811824,\n",
    "463561,\n",
    "986705,\n",
    "1175455,\n",
    "515212,\n",
    "1136508,\n",
    "523252,\n",
    "1340637,\n",
    "406463,\n",
    "381017,\n",
    "886454,\n",
    "1439848,\n",
    "601814,\n",
    "1106176,\n",
    "397274,\n",
    "539298,\n",
    "244999,\n",
    "712852,\n",
    "791830,\n",
    "1221683,\n",
    "1402763,\n",
    "1154374,\n",
    "1245425,\n",
    "293128,\n",
    "700784,\n",
    "459884,\n",
    "369247,\n",
    "315979,\n",
    "1464232,\n",
    "983026,\n",
    "588827,\n",
    "971880,\n",
    "1371032,\n",
    "12968,\n",
    "720840,\n",
    "431826,\n",
    "516566,\n",
    "319418,\n",
    "660383,\n",
    "272393,\n",
    "1119578,\n",
    "529718,\n",
    "1293152,\n",
    "1217377,\n",
    "1022267,\n",
    "274046,\n",
    "1120390,\n",
    "239357,\n",
    "1329594,\n",
    "775265,\n",
    "603294,\n",
    "437762,\n",
    "851864,\n",
    "1423110,\n",
    "1190705,\n",
    "766799,\n",
    "779108,\n",
    "406504,\n",
    "762498,\n",
    "1177800,\n",
    "130112,\n",
    "1184116,\n",
    "331042,\n",
    "1192736,\n",
    "793325,\n",
    "168236,\n",
    "1447081,\n",
    "805166,\n",
    "947089\n",
    "]\n",
    "\n",
    "\n",
    "myout= [677774,\n",
    "847218,\n",
    "169443,\n",
    "1186106,\n",
    "5422196,\n",
    "5422196,\n",
    "169443,\n",
    "296526,\n",
    "593053,\n",
    "931940,\n",
    "1355549,\n",
    "84721,\n",
    "5422196,\n",
    "1016662,\n",
    "254165,\n",
    "254165,\n",
    "1101384,\n",
    "5422196,\n",
    "5422196,\n",
    "423609,\n",
    "677774,\n",
    "5422196,\n",
    "804857,\n",
    "127082,\n",
    "1186106,\n",
    "1186106,\n",
    "84721,\n",
    "1186106,\n",
    "508331,\n",
    "1101384,\n",
    "1186106,\n",
    "1101384,\n",
    "677774,\n",
    "1355549,\n",
    "2711098,\n",
    "677774,\n",
    "1524993,\n",
    "762496,\n",
    "5422196,\n",
    "593053,\n",
    "550692,\n",
    "1186106,\n",
    "5422196,\n",
    "847218,\n",
    "1482632,\n",
    "593053,\n",
    "762496,\n",
    "338887,\n",
    "974301,\n",
    "1016662,\n",
    "5422196,\n",
    "5422196,\n",
    "2033324,\n",
    "5422196,\n",
    "423609,\n",
    "974301,\n",
    "677774,\n",
    "508331,\n",
    "465970,\n",
    "5422196,\n",
    "1355549,\n",
    "847218,\n",
    "1355549,\n",
    "5422196,\n",
    "84721,\n",
    "1016662,\n",
    "635414,\n",
    "677774,\n",
    "465970,\n",
    "931940,\n",
    "423609,\n",
    "1524993,\n",
    "762496,\n",
    "5422196,\n",
    "5422196,\n",
    "1355549,\n",
    "423609,\n",
    "1524993,\n",
    "338887,\n",
    "5422196,\n",
    "1016662,\n",
    "847218,\n",
    "635414,\n",
    "1143745,\n",
    "5422196,\n",
    "2711098,\n",
    "1016662,\n",
    "1016662,\n",
    "593053,\n",
    "1016662,\n",
    "2711098,\n",
    "211804,\n",
    "2711098,\n",
    "508331,\n",
    "2711098,\n",
    "1016662,\n",
    "254165,\n",
    "5422196,\n",
    "1101384,\n",
    "1270828]\n"
   ]
  },
  {
   "cell_type": "raw",
   "id": "12cc5307",
   "metadata": {},
   "source": [
    "df.set_index([\"target\",\"epsilon\",\"query_val\"]).loc[4,0.01].head()"
   ]
  },
  {
   "cell_type": "code",
   "execution_count": 10,
   "id": "1269554c",
   "metadata": {},
   "outputs": [
    {
     "data": {
      "image/png": "[encoded data removed]",
      "text/plain": [
       "<Figure size 288x288 with 1 Axes>"
      ]
     },
     "metadata": {
      "needs_background": "light"
     },
     "output_type": "display_data"
    }
   ],
   "source": [
    "df = pd.DataFrame([baseline, myout]).T\n",
    "for t in [0]:\n",
    "    g = sns.FacetGrid( df, height=4)\n",
    "    g.map(sns.histplot, 0, kde=True, color=\"red\")\n",
    "    g.map(sns.histplot, 1, kde=True, color =\"green\")\n",
    "    g.set(yscale='log')\n",
    "    #g.savefig(f\"../img/histograma_distrib_{query_type.upper()}_t_{t}\")"
   ]
  },
  {
   "cell_type": "code",
   "execution_count": 18,
   "id": "2dde1eac",
   "metadata": {
    "scrolled": false
   },
   "outputs": [
    {
     "data": {
      "image/png": "[encoded data removed]",
      "text/plain": [
       "<Figure size 576x288 with 2 Axes>"
      ]
     },
     "metadata": {
      "needs_background": "light"
     },
     "output_type": "display_data"
    }
   ],
   "source": [
    "for t in [0]:\n",
    "    g = sns.FacetGrid( df[(df[\"target\"]==t)], col=\"epsilon\", height=4)\n",
    "    g.map(sns.histplot, f\"{query_type}_baseline\", kde=True, color=\"red\")\n",
    "    g.map(sns.histplot, query_type, kde=True, color =\"green\")\n",
    "    g.set(yscale='log')\n",
    "    g.savefig(f\"../img/histograma_distrib_{query_type.upper()}_t_{t}\")"
   ]
  },
  {
   "cell_type": "raw",
   "id": "b26f07e5",
   "metadata": {
    "scrolled": false
   },
   "source": [
    "for t in TARGETS:\n",
    "    g = sns.FacetGrid( df[(df[\"target\"]==t)], col=\"epsilon\", height=4)\n",
    "    g.map(sns.lineplot, \"query_val\", query_type, \n",
    "          marker=\"+\", color=\"green\", markersize=3)\n",
    "    g.savefig(f\"../img/queries_GK_{query_type.upper()}_t_{t}\")"
   ]
  },
  {
   "cell_type": "code",
   "execution_count": 19,
   "id": "5331903e",
   "metadata": {
    "scrolled": false
   },
   "outputs": [
    {
     "data": {
      "image/png": "[encoded data removed]",
      "text/plain": [
       "<Figure size 576x288 with 2 Axes>"
      ]
     },
     "metadata": {
      "needs_background": "light"
     },
     "output_type": "display_data"
    },
    {
     "data": {
      "image/png": "[encoded data removed]",
      "text/plain": [
       "<Figure size 576x288 with 2 Axes>"
      ]
     },
     "metadata": {
      "needs_background": "light"
     },
     "output_type": "display_data"
    }
   ],
   "source": [
    "for t in TARGETS:\n",
    "    g = sns.FacetGrid( df[(df[\"target\"]==t)], col=\"epsilon\", height=4)\n",
    "    g.map(sns.lineplot, \"query_val\", \"rank\", \n",
    "          marker=\"+\", color=\"green\", markersize=3)\n",
    "    g.map(plt.errorbar, \"query_val\", \"rank_baseline\", \n",
    "          \"erro_max\", marker=\".\", ecolor=\"red\", \n",
    "          elinewidth=0.5, markersize=2, color=\"orange\")\n",
    "    g.savefig(f\"../img/erroplot_ecdf_{query_type.upper()}_t_{t}\")"
   ]
  },
  {
   "cell_type": "code",
   "execution_count": 20,
   "id": "d59bb895",
   "metadata": {},
   "outputs": [
    {
     "data": {
      "image/png": "[encoded data removed]",
      "text/plain": [
       "<Figure size 720x360 with 2 Axes>"
      ]
     },
     "metadata": {
      "needs_background": "light"
     },
     "output_type": "display_data"
    }
   ],
   "source": [
    "g = sns.catplot(\n",
    "        data=df, x='target', y=\"erro\",\n",
    "        col='epsilon', kind='box'\n",
    ")\n",
    "#g.set(yscale=\"log\")\n",
    "for i in range(len(EPS)):\n",
    "    e=EPS[i]\n",
    "    g.axes[0][i].hlines(y=M*e,xmin=-1, xmax=len(TARGETS),colors = [\"red\"], linestyles=\"dashed\")\n",
    "g.set(yscale=\"log\")\n",
    "g.savefig(f\"../img/boxplot_{query_type}_ERROS\")"
   ]
  }
 ],
 "metadata": {
  "kernelspec": {
   "display_name": "Python 3 (ipykernel)",
   "language": "python",
   "name": "python3"
  },
  "language_info": {
   "codemirror_mode": {
    "name": "ipython",
    "version": 3
   },
   "file_extension": ".py",
   "mimetype": "text/x-python",
   "name": "python",
   "nbconvert_exporter": "python",
   "pygments_lexer": "ipython3",
   "version": "3.8.8"
  }
 },
 "nbformat": 4,
 "nbformat_minor": 5
}
