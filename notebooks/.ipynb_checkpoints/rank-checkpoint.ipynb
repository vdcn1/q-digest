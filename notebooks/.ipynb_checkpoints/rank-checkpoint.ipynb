{
 "cells": [
  {
   "cell_type": "code",
   "execution_count": 29,
   "id": "c2de8a06",
   "metadata": {},
   "outputs": [],
   "source": [
    "import pandas as pd\n",
    "import seaborn as sns\n",
    "import matplotlib.pyplot as plt\n",
    "import subprocess\n",
    "import numpy as np\n",
    "\n",
    "M=3577297\n",
    "query_type = \"rank\"\n",
    "TARGETS = [0, 3, 4, 5, 6, 7]\n",
    "EPS = [0.01 ,0.05, 0.1, 0.2]\n",
    "\n",
    "\n",
    "def add_flame_data(t, e):\n",
    "    profile_file = f\"../data/profile_t_{t}-e_{e}.csv\"\n",
    "    \n",
    "    df_flame = pd.read_csv(profile_file)\n",
    "    return df_flame.values[0]\n",
    "\n"
   ]
  },
  {
   "cell_type": "code",
   "execution_count": 30,
   "id": "e09b277d",
   "metadata": {
    "scrolled": false
   },
   "outputs": [
    {
     "name": "stdout",
     "output_type": "stream",
     "text": [
      "    target     rank   query_val query tamanho tempo_queries  tmp tempo_exec\n",
      "0        0  2010128      865288   NaN     NaN           NaN  NaN        NaT\n",
      "1        0  3072040     1323865   NaN     NaN           NaN  NaN        NaT\n",
      "2        0   909760      369891   NaN     NaN           NaN  NaN        NaT\n",
      "3        0  3386695     1452570   NaN     NaN           NaN  NaN        NaT\n",
      "4        0  2041826      879845   NaN     NaN           NaN  NaN        NaT\n",
      "..     ...      ...         ...   ...     ...           ...  ...        ...\n",
      "95       7  3577295   584324440   NaN     NaN           NaN  NaN        NaT\n",
      "96       7  3577295   977391916   NaN     NaN           NaN  NaN        NaT\n",
      "97       7  3577295  1014621317   NaN     NaN           NaN  NaN        NaT\n",
      "98       7  3577262   883623759   NaN     NaN           NaN  NaN        NaT\n",
      "99       7  3577287    85037170   NaN     NaN           NaN  NaN        NaT\n",
      "\n",
      "[600 rows x 8 columns]\n"
     ]
    }
   ],
   "source": [
    "###Baseline###\n",
    "df_list = []\n",
    "for t in TARGETS:\n",
    "    \n",
    "    dres = pd.read_csv(f\"../data/BASELINE_{query_type.upper()}_T_{t}.csv\", names=[query_type])\n",
    "    dquery = pd.read_csv(f\"../data/INPUT_query_{query_type}_t_{t}.csv\", names=[\"query_val\"])\n",
    "    df = pd.concat([dres,dquery], axis=1)\n",
    "    df['target'] = t\n",
    "\n",
    "    dtime = pd.read_csv(\"../data/baseline_qdis_trace.csv\")\n",
    "\n",
    "    dtime = dtime.reset_index()\n",
    "    dtime.columns = ['target', 'query', 'tamanho', 'tempo_queries', 'tempo_inicio', 'tempo_fim', 'tmp']\n",
    "    \n",
    "    dtmp = dtime[dtime['query'] == 'rank']\n",
    "    dtmp = pd.DataFrame(dtmp.values[:,[0,1,3,4,5,6]])\n",
    "    dtmp.columns =  ['target', 'query', 'tamanho', 'tempo_queries', 'tempo_inicio', 'tempo_fim']\n",
    "\n",
    "    dtime = pd.concat([dtmp,dtime[dtime['query'] == 'quantil']])\n",
    "\n",
    "    df = df.set_index('target').join(dtime[dtime[\"query\"]==query_type].set_index('target'))\n",
    "    df['tempo_inicio'] = df['tempo_inicio'].astype('datetime64[ns]')\n",
    "    df['tempo_fim'] = df['tempo_fim'].astype('datetime64[ns]')\n",
    "    df['tempo_exec'] = (df['tempo_fim'] - df['tempo_inicio'])\n",
    "    df.drop(['tempo_inicio', 'tempo_fim'], axis=1, inplace=True)\n",
    "    \n",
    "    df_list.append(df.reset_index())\n",
    "df_base = pd.concat(df_list)\n",
    "print(df_base)"
   ]
  },
  {
   "cell_type": "code",
   "execution_count": 31,
   "id": "5be54025",
   "metadata": {
    "scrolled": true
   },
   "outputs": [],
   "source": [
    "def add_flame_data(t, e):\n",
    "    profile_file = f\"../data/profile_t_{t}-e_{e}.csv\"\n",
    "    \n",
    "    df_flame = pd.read_csv(profile_file)\n",
    "    try:\n",
    "        res = df_flame.values[0][0]\n",
    "    except:\n",
    "        res = np.nan\n",
    "    return res\n",
    "\n",
    "###QDIGEST###\n",
    "df_list = []\n",
    "for t in TARGETS:\n",
    "    for e in EPS:\n",
    "        profile_file = f\"../data/profile_t_{t}-e_{e}.csv\"\n",
    "        \n",
    "        dres = pd.read_csv(f\"../data/QDIGEST_{query_type.upper()}_T_{t}-E_{e}.csv\", names=[query_type])\n",
    "        dquery = pd.read_csv(f\"../data/INPUT_query_{query_type}_t_{t}.csv\", names=[\"query_val\"])\n",
    "        df = pd.concat([dres,dquery], axis=1)\n",
    "        df['target'] = t\n",
    "        df['epsilon'] = e\n",
    "        df = df.set_index([\"target\", \"epsilon\"])\n",
    "        dtime = pd.read_csv(\"../data/q-digest_profile_trace.csv\")\n",
    "        dtime = dtime.set_index(['target', 'epsilon'])\n",
    "        df = df.join(dtime[dtime[\"query\"] == query_type])\n",
    "        df['tempo_inicio'] = df['tempo_inicio'].astype('datetime64[ns]')\n",
    "        df['tempo_fim'] = df['tempo_fim'].astype('datetime64[ns]')\n",
    "        df['tempo_exec'] = (df['tempo_fim'] - df['tempo_inicio'])\n",
    "        #print(pd.read_csv(profile_file))\n",
    "        df.drop(['tempo_inicio', 'tempo_fim'], axis=1, inplace=True)\n",
    "        df['mem'] = add_flame_data(t,e)\n",
    "        df_list.append(df.reset_index())\n",
    "df_gk = pd.concat(df_list)"
   ]
  },
  {
   "cell_type": "code",
   "execution_count": 32,
   "id": "384006c3",
   "metadata": {},
   "outputs": [
    {
     "data": {
      "text/plain": [
       "target                  int64\n",
       "epsilon               float64\n",
       "rank                    int64\n",
       "query_val               int64\n",
       "query                  object\n",
       "tempo_exec    timedelta64[ns]\n",
       "mem                   float64\n",
       "dtype: object"
      ]
     },
     "execution_count": 32,
     "metadata": {},
     "output_type": "execute_result"
    }
   ],
   "source": [
    "df_gk.dtypes"
   ]
  },
  {
   "cell_type": "code",
   "execution_count": 33,
   "id": "d22dc84f",
   "metadata": {
    "scrolled": true
   },
   "outputs": [],
   "source": [
    "df_base = df_base.set_index([\"target\", \"query_val\"])\n",
    "df_base[\"epsilon\"] = 0\n",
    "df_gk = df_gk.set_index([\"target\", \"query_val\"])\n",
    "\n",
    "#df_base[\"erro\"] = abs(df_base[\"rank\"] - df_base[\"rank\"] )\n",
    "#df_base[\"erro_max\"] =  df_base[\"epsilon\"] * M\n",
    "\n",
    "#df_gk[\"erro\"] = abs(df_gk[\"rank\"] - df_gk[\"rank\"] )\n",
    "#df_gk[\"erro_max\"] =  df_gk[\"epsilon\"] * M\n",
    "\n",
    "df = df_base.join(df_gk, lsuffix=\"_baseline\")\n",
    "#df = df_gk"
   ]
  },
  {
   "cell_type": "code",
   "execution_count": 34,
   "id": "b52a5826",
   "metadata": {},
   "outputs": [
    {
     "data": {
      "text/plain": [
       "rank_baseline                    int64\n",
       "query_baseline                  object\n",
       "tamanho                         object\n",
       "tempo_queries                   object\n",
       "tmp                            float64\n",
       "tempo_exec_baseline    timedelta64[ns]\n",
       "epsilon_baseline                 int64\n",
       "epsilon                        float64\n",
       "rank                             int64\n",
       "query                           object\n",
       "tempo_exec             timedelta64[ns]\n",
       "mem                            float64\n",
       "dtype: object"
      ]
     },
     "execution_count": 34,
     "metadata": {},
     "output_type": "execute_result"
    }
   ],
   "source": [
    "df.dtypes"
   ]
  },
  {
   "cell_type": "code",
   "execution_count": 35,
   "id": "a65e1ce7",
   "metadata": {
    "scrolled": true
   },
   "outputs": [
    {
     "data": {
      "text/html": [
       "<div>\n",
       "<style scoped>\n",
       "    .dataframe tbody tr th:only-of-type {\n",
       "        vertical-align: middle;\n",
       "    }\n",
       "\n",
       "    .dataframe tbody tr th {\n",
       "        vertical-align: top;\n",
       "    }\n",
       "\n",
       "    .dataframe thead th {\n",
       "        text-align: right;\n",
       "    }\n",
       "</style>\n",
       "<table border=\"1\" class=\"dataframe\">\n",
       "  <thead>\n",
       "    <tr style=\"text-align: right;\">\n",
       "      <th></th>\n",
       "      <th></th>\n",
       "      <th>rank_baseline</th>\n",
       "      <th>query_baseline</th>\n",
       "      <th>tamanho</th>\n",
       "      <th>tempo_queries</th>\n",
       "      <th>tmp</th>\n",
       "      <th>tempo_exec_baseline</th>\n",
       "      <th>epsilon_baseline</th>\n",
       "      <th>epsilon</th>\n",
       "      <th>rank</th>\n",
       "      <th>query</th>\n",
       "      <th>tempo_exec</th>\n",
       "      <th>mem</th>\n",
       "    </tr>\n",
       "    <tr>\n",
       "      <th>target</th>\n",
       "      <th>query_val</th>\n",
       "      <th></th>\n",
       "      <th></th>\n",
       "      <th></th>\n",
       "      <th></th>\n",
       "      <th></th>\n",
       "      <th></th>\n",
       "      <th></th>\n",
       "      <th></th>\n",
       "      <th></th>\n",
       "      <th></th>\n",
       "      <th></th>\n",
       "      <th></th>\n",
       "    </tr>\n",
       "  </thead>\n",
       "  <tbody>\n",
       "    <tr>\n",
       "      <th rowspan=\"5\" valign=\"top\">0</th>\n",
       "      <th>8383</th>\n",
       "      <td>19937</td>\n",
       "      <td>NaN</td>\n",
       "      <td>NaN</td>\n",
       "      <td>NaN</td>\n",
       "      <td>NaN</td>\n",
       "      <td>NaT</td>\n",
       "      <td>0</td>\n",
       "      <td>0.01</td>\n",
       "      <td>14159</td>\n",
       "      <td>rank</td>\n",
       "      <td>0 days 00:00:02.829606698</td>\n",
       "      <td>2358144.0</td>\n",
       "    </tr>\n",
       "    <tr>\n",
       "      <th>8383</th>\n",
       "      <td>19937</td>\n",
       "      <td>NaN</td>\n",
       "      <td>NaN</td>\n",
       "      <td>NaN</td>\n",
       "      <td>NaN</td>\n",
       "      <td>NaT</td>\n",
       "      <td>0</td>\n",
       "      <td>0.05</td>\n",
       "      <td>0</td>\n",
       "      <td>rank</td>\n",
       "      <td>0 days 00:00:02.752097266</td>\n",
       "      <td>1732224.0</td>\n",
       "    </tr>\n",
       "    <tr>\n",
       "      <th>8383</th>\n",
       "      <td>19937</td>\n",
       "      <td>NaN</td>\n",
       "      <td>NaN</td>\n",
       "      <td>NaN</td>\n",
       "      <td>NaN</td>\n",
       "      <td>NaT</td>\n",
       "      <td>0</td>\n",
       "      <td>0.10</td>\n",
       "      <td>0</td>\n",
       "      <td>rank</td>\n",
       "      <td>0 days 00:00:02.705455857</td>\n",
       "      <td>1910976.0</td>\n",
       "    </tr>\n",
       "    <tr>\n",
       "      <th>8383</th>\n",
       "      <td>19937</td>\n",
       "      <td>NaN</td>\n",
       "      <td>NaN</td>\n",
       "      <td>NaN</td>\n",
       "      <td>NaN</td>\n",
       "      <td>NaT</td>\n",
       "      <td>0</td>\n",
       "      <td>0.20</td>\n",
       "      <td>0</td>\n",
       "      <td>rank</td>\n",
       "      <td>0 days 00:00:02.675498562</td>\n",
       "      <td>2368.0</td>\n",
       "    </tr>\n",
       "    <tr>\n",
       "      <th>9356</th>\n",
       "      <td>22404</td>\n",
       "      <td>NaN</td>\n",
       "      <td>NaN</td>\n",
       "      <td>NaN</td>\n",
       "      <td>NaN</td>\n",
       "      <td>NaT</td>\n",
       "      <td>0</td>\n",
       "      <td>0.01</td>\n",
       "      <td>15994</td>\n",
       "      <td>rank</td>\n",
       "      <td>0 days 00:00:02.829606698</td>\n",
       "      <td>2358144.0</td>\n",
       "    </tr>\n",
       "    <tr>\n",
       "      <th>...</th>\n",
       "      <th>...</th>\n",
       "      <td>...</td>\n",
       "      <td>...</td>\n",
       "      <td>...</td>\n",
       "      <td>...</td>\n",
       "      <td>...</td>\n",
       "      <td>...</td>\n",
       "      <td>...</td>\n",
       "      <td>...</td>\n",
       "      <td>...</td>\n",
       "      <td>...</td>\n",
       "      <td>...</td>\n",
       "      <td>...</td>\n",
       "    </tr>\n",
       "    <tr>\n",
       "      <th rowspan=\"5\" valign=\"top\">7</th>\n",
       "      <th>1340451999</th>\n",
       "      <td>3577150</td>\n",
       "      <td>NaN</td>\n",
       "      <td>NaN</td>\n",
       "      <td>NaN</td>\n",
       "      <td>NaN</td>\n",
       "      <td>NaT</td>\n",
       "      <td>0</td>\n",
       "      <td>0.20</td>\n",
       "      <td>3526452</td>\n",
       "      <td>rank</td>\n",
       "      <td>0 days 00:00:07.004632455</td>\n",
       "      <td>NaN</td>\n",
       "    </tr>\n",
       "    <tr>\n",
       "      <th>1343031158</th>\n",
       "      <td>3577280</td>\n",
       "      <td>NaN</td>\n",
       "      <td>NaN</td>\n",
       "      <td>NaN</td>\n",
       "      <td>NaN</td>\n",
       "      <td>NaT</td>\n",
       "      <td>0</td>\n",
       "      <td>0.01</td>\n",
       "      <td>3562078</td>\n",
       "      <td>rank</td>\n",
       "      <td>0 days 00:00:06.682560828</td>\n",
       "      <td>NaN</td>\n",
       "    </tr>\n",
       "    <tr>\n",
       "      <th>1343031158</th>\n",
       "      <td>3577280</td>\n",
       "      <td>NaN</td>\n",
       "      <td>NaN</td>\n",
       "      <td>NaN</td>\n",
       "      <td>NaN</td>\n",
       "      <td>NaT</td>\n",
       "      <td>0</td>\n",
       "      <td>0.05</td>\n",
       "      <td>3549655</td>\n",
       "      <td>rank</td>\n",
       "      <td>0 days 00:00:06.825751260</td>\n",
       "      <td>NaN</td>\n",
       "    </tr>\n",
       "    <tr>\n",
       "      <th>1343031158</th>\n",
       "      <td>3577280</td>\n",
       "      <td>NaN</td>\n",
       "      <td>NaN</td>\n",
       "      <td>NaN</td>\n",
       "      <td>NaN</td>\n",
       "      <td>NaT</td>\n",
       "      <td>0</td>\n",
       "      <td>0.10</td>\n",
       "      <td>3541921</td>\n",
       "      <td>rank</td>\n",
       "      <td>0 days 00:00:06.986016179</td>\n",
       "      <td>NaN</td>\n",
       "    </tr>\n",
       "    <tr>\n",
       "      <th>1343031158</th>\n",
       "      <td>3577280</td>\n",
       "      <td>NaN</td>\n",
       "      <td>NaN</td>\n",
       "      <td>NaN</td>\n",
       "      <td>NaN</td>\n",
       "      <td>NaT</td>\n",
       "      <td>0</td>\n",
       "      <td>0.20</td>\n",
       "      <td>3526452</td>\n",
       "      <td>rank</td>\n",
       "      <td>0 days 00:00:07.004632455</td>\n",
       "      <td>NaN</td>\n",
       "    </tr>\n",
       "  </tbody>\n",
       "</table>\n",
       "<p>4560 rows × 12 columns</p>\n",
       "</div>"
      ],
      "text/plain": [
       "                   rank_baseline query_baseline tamanho tempo_queries  tmp  \\\n",
       "target query_val                                                             \n",
       "0      8383                19937            NaN     NaN           NaN  NaN   \n",
       "       8383                19937            NaN     NaN           NaN  NaN   \n",
       "       8383                19937            NaN     NaN           NaN  NaN   \n",
       "       8383                19937            NaN     NaN           NaN  NaN   \n",
       "       9356                22404            NaN     NaN           NaN  NaN   \n",
       "...                          ...            ...     ...           ...  ...   \n",
       "7      1340451999        3577150            NaN     NaN           NaN  NaN   \n",
       "       1343031158        3577280            NaN     NaN           NaN  NaN   \n",
       "       1343031158        3577280            NaN     NaN           NaN  NaN   \n",
       "       1343031158        3577280            NaN     NaN           NaN  NaN   \n",
       "       1343031158        3577280            NaN     NaN           NaN  NaN   \n",
       "\n",
       "                  tempo_exec_baseline  epsilon_baseline  epsilon     rank  \\\n",
       "target query_val                                                            \n",
       "0      8383                       NaT                 0     0.01    14159   \n",
       "       8383                       NaT                 0     0.05        0   \n",
       "       8383                       NaT                 0     0.10        0   \n",
       "       8383                       NaT                 0     0.20        0   \n",
       "       9356                       NaT                 0     0.01    15994   \n",
       "...                               ...               ...      ...      ...   \n",
       "7      1340451999                 NaT                 0     0.20  3526452   \n",
       "       1343031158                 NaT                 0     0.01  3562078   \n",
       "       1343031158                 NaT                 0     0.05  3549655   \n",
       "       1343031158                 NaT                 0     0.10  3541921   \n",
       "       1343031158                 NaT                 0     0.20  3526452   \n",
       "\n",
       "                  query                tempo_exec        mem  \n",
       "target query_val                                              \n",
       "0      8383        rank 0 days 00:00:02.829606698  2358144.0  \n",
       "       8383        rank 0 days 00:00:02.752097266  1732224.0  \n",
       "       8383        rank 0 days 00:00:02.705455857  1910976.0  \n",
       "       8383        rank 0 days 00:00:02.675498562     2368.0  \n",
       "       9356        rank 0 days 00:00:02.829606698  2358144.0  \n",
       "...                 ...                       ...        ...  \n",
       "7      1340451999  rank 0 days 00:00:07.004632455        NaN  \n",
       "       1343031158  rank 0 days 00:00:06.682560828        NaN  \n",
       "       1343031158  rank 0 days 00:00:06.825751260        NaN  \n",
       "       1343031158  rank 0 days 00:00:06.986016179        NaN  \n",
       "       1343031158  rank 0 days 00:00:07.004632455        NaN  \n",
       "\n",
       "[4560 rows x 12 columns]"
      ]
     },
     "execution_count": 35,
     "metadata": {},
     "output_type": "execute_result"
    }
   ],
   "source": [
    "df"
   ]
  },
  {
   "cell_type": "code",
   "execution_count": 36,
   "id": "71bbbf37",
   "metadata": {
    "scrolled": true
   },
   "outputs": [
    {
     "name": "stdout",
     "output_type": "stream",
     "text": [
      "Index(['rank_baseline', 'query_baseline', 'tamanho', 'tempo_queries', 'tmp',\n",
      "       'tempo_exec_baseline', 'epsilon_baseline', 'epsilon', 'rank', 'query',\n",
      "       'tempo_exec', 'mem'],\n",
      "      dtype='object')\n"
     ]
    },
    {
     "data": {
      "text/plain": [
       "4560"
      ]
     },
     "execution_count": 36,
     "metadata": {},
     "output_type": "execute_result"
    }
   ],
   "source": [
    "print(df.columns)\n",
    "df[\"erro\"] = abs(df[f\"rank_baseline\"] - df[\"rank\"] )\n",
    "df[\"erro_max\"] =  df[\"epsilon\"] * M\n",
    "10000\n",
    "#df_gk = df_gk.reset_index()\n",
    "#df_base = df_base.reset_index()\n",
    "\n",
    "df = df.reset_index()\n",
    "\n",
    "len(df)"
   ]
  },
  {
   "cell_type": "raw",
   "id": "6bce2b2b",
   "metadata": {},
   "source": [
    "import numpy as np\n",
    "cols_base = ['rank', 'tempo_exec', 'proc_update', 'proc_javaIO', 'proc_queryRank']\n",
    "for c in cols_base:\n",
    "    df_gk[f'{c}_baseline'] = 0\n",
    "    for t in TARGETS:\n",
    "        for q in df_gk[\"queryR\"].unique():\n",
    "            df_gk[f'{c}_baseline'] = np.where(\n",
    "                (df_gk[\"queryR\"] == q)\n",
    "                & (df_gk[\"target\"] == t),\n",
    "                df_base[(df_base[\"target\"]==t)][c].iloc[0],\n",
    "                df_gk[f'{c}_baseline']\n",
    "    )"
   ]
  },
  {
   "cell_type": "raw",
   "id": "e908ef06",
   "metadata": {},
   "source": [
    "df = df_gk\n",
    "df[\"erro\"] = abs(df[\"rank_baseline\"] - df[\"rank\"] )\n",
    "df[\"erro_max\"] =  df[\"epsilon\"] * M"
   ]
  },
  {
   "cell_type": "raw",
   "id": "35243e8d",
   "metadata": {},
   "source": [
    "for t in TARGETS:\n",
    "    g = sns.FacetGrid( df[(df[\"target\"]==t)], height=4)\n",
    "    #g.map(sns.histplot, \"rank_baseline\", kde=True, color=\"red\")\n",
    "    g.map(sns.histplot, \"queryR\", kde=True)\n"
   ]
  },
  {
   "cell_type": "code",
   "execution_count": 37,
   "id": "c7096474",
   "metadata": {
    "scrolled": true
   },
   "outputs": [],
   "source": [
    "df[\"tempo_exec_int\"] = df[\"tempo_exec\"].astype(\"int\")/1000000000"
   ]
  },
  {
   "cell_type": "code",
   "execution_count": null,
   "id": "507376cf",
   "metadata": {},
   "outputs": [],
   "source": [
    "df[\"tempo_update\"] = df[\"proc_update\"] * df[\"tempo_exec_int\"]\n",
    "df[\"tempo_query\"] = df[\"proc_queryRank\"] * df[\"tempo_exec_int\"]\n",
    "df[\"tempo_io\"] = df[\"proc_javaIO\"] * df[\"tempo_exec_int\"]"
   ]
  },
  {
   "cell_type": "code",
   "execution_count": null,
   "id": "fd53f2e1",
   "metadata": {},
   "outputs": [],
   "source": [
    "df[\"tempo_exec_int_baseline\"] = df[\"tempo_exec_baseline\"].astype(\"int\")/1000000000\n",
    "\n",
    "\n",
    "df[\"tempo_update_baseline\"] = df[\"proc_update_baseline\"] * df[\"tempo_exec_int_baseline\"]\n",
    "df[\"tempo_query_baseline\"] = df[\"proc_queryRank_baseline\"] * df[\"tempo_exec_int_baseline\"]\n",
    "df[\"tempo_io_baseline\"] = df[\"proc_javaIO_baseline\"] * df[\"tempo_exec_int_baseline\"]"
   ]
  },
  {
   "cell_type": "code",
   "execution_count": 38,
   "id": "322eadfb",
   "metadata": {},
   "outputs": [],
   "source": [
    "#TODO tempo para montar estrutura\n",
    "df_heatMap = df.drop_duplicates(subset=[\"epsilon\", \"target\"])"
   ]
  },
  {
   "cell_type": "code",
   "execution_count": null,
   "id": "b81b62cb",
   "metadata": {},
   "outputs": [],
   "source": []
  },
  {
   "cell_type": "code",
   "execution_count": 39,
   "id": "c6fa6015",
   "metadata": {
    "scrolled": true
   },
   "outputs": [],
   "source": [
    "dferro = df_heatMap.groupby([\"target\", \"epsilon\"])[\"erro\"].mean().reset_index()"
   ]
  },
  {
   "cell_type": "code",
   "execution_count": 40,
   "id": "6c324ebc",
   "metadata": {},
   "outputs": [
    {
     "data": {
      "image/png": "[encoded data removed]",
      "text/plain": [
       "<Figure size 432x288 with 2 Axes>"
      ]
     },
     "metadata": {
      "needs_background": "light"
     },
     "output_type": "display_data"
    }
   ],
   "source": [
    "erro = dferro.pivot(\"target\", \"epsilon\", \"erro\")\n",
    "f = sns.heatmap(erro/M, annot=True)\n",
    "f.get_figure().savefig(\"../img/qdigest-heatmap_ERRO\")"
   ]
  },
  {
   "cell_type": "code",
   "execution_count": 41,
   "id": "96626d9f",
   "metadata": {},
   "outputs": [
    {
     "data": {
      "image/png": "[encoded data removed]",
      "text/plain": [
       "<Figure size 432x288 with 2 Axes>"
      ]
     },
     "metadata": {
      "needs_background": "light"
     },
     "output_type": "display_data"
    }
   ],
   "source": [
    "tempos = df_heatMap.pivot(\"target\", \"epsilon\", \"tempo_exec_int\")\n",
    "f = sns.heatmap(tempos, annot=True)\n",
    "f.get_figure().savefig(\"../img/qdigest-heatmap_TEMPO\")"
   ]
  },
  {
   "cell_type": "code",
   "execution_count": null,
   "id": "c37f8505",
   "metadata": {},
   "outputs": [],
   "source": [
    "tempos = df_heatMap.pivot(\"target\", \"epsilon\", \"mem\")\n",
    "f = sns.heatmap(tempos, annot=True)\n",
    "f.get_figure().savefig(\"../img/qdigest-heatmap_MEM\")"
   ]
  },
  {
   "cell_type": "code",
   "execution_count": null,
   "id": "17a284fa",
   "metadata": {},
   "outputs": [],
   "source": [
    "tempos = df_heatMap.pivot(\"target\", \"epsilon\", \"proc_update\")\n",
    "f = sns.heatmap(tempos, annot=True)\n",
    "f.get_figure().savefig(\"../img/heatmap_PROC_UPDATE\")"
   ]
  },
  {
   "cell_type": "code",
   "execution_count": null,
   "id": "df70fa46",
   "metadata": {},
   "outputs": [],
   "source": [
    "tempos = df_heatMap.pivot(\"target\", \"epsilon\", \"tempo_io\")\n",
    "f = sns.heatmap(tempos, annot=True)\n",
    "f.get_figure().savefig(\"../img/heatmap_TEMPO_IO\")"
   ]
  },
  {
   "cell_type": "code",
   "execution_count": null,
   "id": "abc1d23b",
   "metadata": {},
   "outputs": [],
   "source": [
    "tempos = df_heatMap.pivot(\"target\", \"epsilon\", \"proc_javaIO\")\n",
    "f = sns.heatmap(tempos, annot=True)\n",
    "f.get_figure().savefig(\"../img/heatmap_PROC_IO\")"
   ]
  },
  {
   "cell_type": "raw",
   "id": "12cc5307",
   "metadata": {},
   "source": [
    "df.set_index([\"target\",\"epsilon\",\"query_val\"]).loc[4,0.01].head()"
   ]
  },
  {
   "cell_type": "code",
   "execution_count": null,
   "id": "200cfb32",
   "metadata": {},
   "outputs": [],
   "source": [
    "df.head()"
   ]
  },
  {
   "cell_type": "code",
   "execution_count": null,
   "id": "2dde1eac",
   "metadata": {
    "scrolled": false
   },
   "outputs": [],
   "source": [
    "for t in TARGETS:\n",
    "    g = sns.FacetGrid( df[(df[\"target\"]==t)], col=\"epsilon\", height=4)\n",
    "    g.map(sns.histplot, f\"{query_type}_baseline\", kde=True, color=\"red\")\n",
    "    g.map(sns.histplot, query_type, kde=True, color =\"green\")\n",
    "    #g.map(sns.histplot, \"query_val\", kde=True, color =\"green\")\n",
    "    g.set(yscale='log')\n",
    "    g.savefig(f\"../img/qdigest-histograma_distrib_{query_type.upper()}_t_{t}\")"
   ]
  },
  {
   "cell_type": "raw",
   "id": "567afa32",
   "metadata": {
    "scrolled": false
   },
   "source": [
    "for t in TARGETS:\n",
    "    g = sns.FacetGrid( df[(df[\"target\"]==t)], col=\"epsilon\", height=4)\n",
    "    g.map(sns.lineplot, \"query_val\", query_type, \n",
    "          marker=\"+\", color=\"green\", markersize=3)\n",
    "    g.savefig(f\"../img/queries_GK_{query_type.upper()}_t_{t}\")"
   ]
  },
  {
   "cell_type": "code",
   "execution_count": null,
   "id": "5331903e",
   "metadata": {
    "scrolled": false
   },
   "outputs": [],
   "source": [
    "for t in TARGETS:\n",
    "    g = sns.FacetGrid( df[(df[\"target\"]==t)], col=\"epsilon\", height=4)\n",
    "    g.map(sns.lineplot, \"query_val\", \"rank\", \n",
    "          marker=\"+\", color=\"green\", markersize=3)\n",
    "    g.map(plt.errorbar, \"query_val\", \"rank_baseline\", \n",
    "          \"erro_max\", marker=\".\", ecolor=\"red\", \n",
    "          elinewidth=0.5, markersize=2, color=\"orange\")\n",
    "    g.savefig(f\"../img/qdigest-erroplot_ecdf_{query_type.upper()}_t_{t}\")"
   ]
  },
  {
   "cell_type": "code",
   "execution_count": null,
   "id": "d59bb895",
   "metadata": {},
   "outputs": [],
   "source": [
    "g = sns.catplot(\n",
    "        data=df, x='target', y=\"erro\",\n",
    "        col='epsilon', kind='box'\n",
    ")\n",
    "#g.set(yscale=\"log\")\n",
    "for i in range(len(EPS)):\n",
    "    e=EPS[i]\n",
    "    g.axes[0][i].hlines(y=M*e,xmin=-1, xmax=len(TARGETS),colors = [\"red\"], linestyles=\"dashed\")\n",
    "g.set(yscale=\"log\")\n",
    "g.savefig(f\"../img/qdigest-boxplot_{query_type}_ERROS\")"
   ]
  },
  {
   "cell_type": "code",
   "execution_count": null,
   "id": "dc2c2afb",
   "metadata": {},
   "outputs": [],
   "source": []
  },
  {
   "cell_type": "code",
   "execution_count": null,
   "id": "ff223bad",
   "metadata": {},
   "outputs": [],
   "source": []
  },
  {
   "cell_type": "code",
   "execution_count": null,
   "id": "d228e472",
   "metadata": {},
   "outputs": [],
   "source": []
  }
 ],
 "metadata": {
  "kernelspec": {
   "display_name": "Python 3 (ipykernel)",
   "language": "python",
   "name": "python3"
  },
  "language_info": {
   "codemirror_mode": {
    "name": "ipython",
    "version": 3
   },
   "file_extension": ".py",
   "mimetype": "text/x-python",
   "name": "python",
   "nbconvert_exporter": "python",
   "pygments_lexer": "ipython3",
   "version": "3.8.8"
  }
 },
 "nbformat": 4,
 "nbformat_minor": 5
}
