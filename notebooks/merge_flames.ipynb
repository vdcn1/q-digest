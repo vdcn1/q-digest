{
 "cells": [
  {
   "cell_type": "code",
   "execution_count": 54,
   "id": "58fb5cd6",
   "metadata": {},
   "outputs": [],
   "source": [
    "import pandas as pd"
   ]
  },
  {
   "cell_type": "code",
   "execution_count": 123,
   "id": "60142032",
   "metadata": {},
   "outputs": [
    {
     "name": "stdout",
     "output_type": "stream",
     "text": [
      "../data/profile_t_0_e_0.01.csv  ../data/profile_t_4_e_0.1.csv\r\n",
      "../data/profile_t_0_e_0.05.csv  ../data/profile_t_5_e_0.01.csv\r\n",
      "../data/profile_t_0_e_0.1.csv   ../data/profile_t_5_e_0.05.csv\r\n",
      "../data/profile_t_3_e_0.01.csv  ../data/profile_t_5_e_0.1.csv\r\n",
      "../data/profile_t_3_e_0.05.csv  ../data/profile_t_6_e_0.01.csv\r\n",
      "../data/profile_t_3_e_0.1.csv   ../data/profile_t_6_e_0.05.csv\r\n",
      "../data/profile_t_4_e_0.01.csv  ../data/profile_t_7_e_0.01.csv\r\n",
      "../data/profile_t_4_e_0.05.csv  ../data/profile_t_7_e_0.05.csv\r\n"
     ]
    }
   ],
   "source": [
    "ls ../data/profile_t_*"
   ]
  },
  {
   "cell_type": "code",
   "execution_count": 196,
   "id": "d6d0b47f",
   "metadata": {},
   "outputs": [
    {
     "data": {
      "text/plain": [
       "7.254437297480293e-05"
      ]
     },
     "execution_count": 196,
     "metadata": {},
     "output_type": "execute_result"
    }
   ],
   "source": [
    "T = [0, 3, 4, 5, 6]\n",
    "E = [0.1, 0.05, 0.01]\n",
    "df = pd.concat([pd.read_csv(f\"../data/profile_t_{t}_e_{e}.csv\", names=[\"call\"]) for t in T for e in E])\n",
    "df[\"call\"] = df[\"call\"].astype(\"string\")\n",
    "#df = pd.read_csv(f\"../data/profile_t_4_e_0.01.csv\", names=[\"call\"])\n",
    "df[\"call\"].replace({None: \"\"}, inplace=True)\n",
    "\n",
    "df[\"num\"] = df[\"call\"].apply(lambda x: x.split(\";\")[-1].split(\" \")[-1])\n",
    "df[\"num\"] = pd.to_numeric(df[\"num\"], errors=\"coerce\")\n",
    "total = df.num.sum()\n",
    "\n",
    "\n",
    "df[df[\"call\"].str.contains(\"gk/GK.update\")][\"num\"].sum()/total\n",
    "\n",
    "df[df[\"call\"].str.contains(\"gk/GK.updatePure\")][\"num\"].sum()/total\n",
    "\n",
    "df[df[\"call\"].str.contains(\"gk/GK.compress\")][\"num\"].sum()/total\n",
    "\n",
    "df[df[\"call\"].str.contains(\"java.io\")][\"num\"].sum()/total\n",
    "\n",
    "df[df[\"call\"].str.contains(\"gk/GK.query_rank\")][\"num\"].sum()/total"
   ]
  },
  {
   "cell_type": "code",
   "execution_count": 126,
   "id": "5754f3e4",
   "metadata": {
    "scrolled": true
   },
   "outputs": [
    {
     "name": "stdout",
     "output_type": "stream",
     "text": [
      "<class 'pandas.core.frame.DataFrame'>\n",
      "RangeIndex: 5298 entries, 0 to 5297\n",
      "Data columns (total 2 columns):\n",
      " #   Column  Non-Null Count  Dtype  \n",
      "---  ------  --------------  -----  \n",
      " 0   call    5298 non-null   object \n",
      " 1   num     5168 non-null   float64\n",
      "dtypes: float64(1), object(1)\n",
      "memory usage: 82.9+ KB\n"
     ]
    }
   ],
   "source": [
    "df.info()"
   ]
  },
  {
   "cell_type": "code",
   "execution_count": 197,
   "id": "dd8cf034",
   "metadata": {},
   "outputs": [
    {
     "data": {
      "text/plain": [
       "41354.0"
      ]
     },
     "execution_count": 197,
     "metadata": {},
     "output_type": "execute_result"
    }
   ],
   "source": [
    "total"
   ]
  },
  {
   "cell_type": "code",
   "execution_count": 142,
   "id": "51ef24cc",
   "metadata": {},
   "outputs": [
    {
     "data": {
      "text/plain": [
       "0.008646439239113348"
      ]
     },
     "execution_count": 142,
     "metadata": {},
     "output_type": "execute_result"
    }
   ],
   "source": [
    "df[df[\"call\"].str.contains(\"java.io\")][\"num\"].sum()/total"
   ]
  },
  {
   "cell_type": "code",
   "execution_count": 140,
   "id": "f36c28e6",
   "metadata": {},
   "outputs": [
    {
     "data": {
      "text/plain": [
       "0.008960855211444742"
      ]
     },
     "execution_count": 140,
     "metadata": {},
     "output_type": "execute_result"
    }
   ],
   "source": [
    "p"
   ]
  },
  {
   "cell_type": "code",
   "execution_count": null,
   "id": "d777d983",
   "metadata": {},
   "outputs": [],
   "source": []
  },
  {
   "cell_type": "code",
   "execution_count": 85,
   "id": "2b3750d8",
   "metadata": {},
   "outputs": [
    {
     "data": {
      "text/plain": [
       "442     sun/launcher/LauncherHelper.checkAndLoadMain;s...\n",
       "2122    scala/tools/nsc/MainGenericRunner.main;scala/t...\n",
       "Name: call, dtype: object"
      ]
     },
     "execution_count": 85,
     "metadata": {},
     "output_type": "execute_result"
    }
   ],
   "source": [
    "df[df.call.str.contains(\"loadMethodIDs\")][\"call\"]"
   ]
  },
  {
   "cell_type": "code",
   "execution_count": 4,
   "id": "11510d96",
   "metadata": {},
   "outputs": [],
   "source": [
    "s = \"scala/tools/nsc/MainGenericRunner.main;scala/tools/nsc/MainGenericRunner$.main;scala/tools/nsc/MainGenericRunner.process;scala/tools/nsc/MainGenericRunner.run$1;scala/tools/nsc/MainGenericRunner.runTarget$1;scala/tools/nsc/JarRunner$.runJar;scala/tools/nsc/CommonRunner$class.runAndCatch;scala/tools/nsc/JarRunner$.run;scala/tools/nsc/CommonRunner$class.run;scala/reflect/internal/util/ScalaClassLoader$URLClassLoader.run;scala/reflect/internal/util/ScalaClassLoader$class.run;scala/reflect/internal/util/ScalaClassLoader$URLClassLoader.asContext;scala/reflect/internal/util/ScalaClassLoader$class.asContext;scala/reflect/internal/util/ScalaClassLoader$$anonfun$run$1.apply;java/lang/reflect/Method.invoke;jdk/internal/reflect/DelegatingMethodAccessorImpl.invoke;jdk/internal/reflect/NativeMethodAccessorImpl.invoke;jdk/internal/reflect/NativeMethodAccessorImpl.invoke0;gk/Main.main;gk/Main$.main;scala/App$class.main;scala/collection/generic/TraversableForwarder$class.foreach;scala/collection/immutable/List.foreach;scala/App$$anonfun$main$1.apply;scala/App$$anonfun$main$1.apply;scala/runtime/AbstractFunction0.apply$mcV$sp;scala/Function0$class.apply$mcV$sp;gk/Main$delayedInit$body.apply;gk/Main$.delayedEndpoint$gk$Main$1;gk/Main$.run;scala/collection/AbstractIterator.foreach;scala/collection/Iterator$class.foreach;gk/Main$$anonfun$run$1.apply;gk/Main$$anonfun$run$1.apply;gk/GK.update;gk/GK.compress;scala/runtime/BoxesRunTime.boxToInteger;java/lang/Integer.valueOf 1\""
   ]
  },
  {
   "cell_type": "code",
   "execution_count": 5,
   "id": "9aa196d9",
   "metadata": {},
   "outputs": [
    {
     "data": {
      "text/plain": [
       "['scala/tools/nsc/MainGenericRunner.main',\n",
       " 'scala/tools/nsc/MainGenericRunner$.main',\n",
       " 'scala/tools/nsc/MainGenericRunner.process',\n",
       " 'scala/tools/nsc/MainGenericRunner.run$1',\n",
       " 'scala/tools/nsc/MainGenericRunner.runTarget$1',\n",
       " 'scala/tools/nsc/JarRunner$.runJar',\n",
       " 'scala/tools/nsc/CommonRunner$class.runAndCatch',\n",
       " 'scala/tools/nsc/JarRunner$.run',\n",
       " 'scala/tools/nsc/CommonRunner$class.run',\n",
       " 'scala/reflect/internal/util/ScalaClassLoader$URLClassLoader.run',\n",
       " 'scala/reflect/internal/util/ScalaClassLoader$class.run',\n",
       " 'scala/reflect/internal/util/ScalaClassLoader$URLClassLoader.asContext',\n",
       " 'scala/reflect/internal/util/ScalaClassLoader$class.asContext',\n",
       " 'scala/reflect/internal/util/ScalaClassLoader$$anonfun$run$1.apply',\n",
       " 'java/lang/reflect/Method.invoke',\n",
       " 'jdk/internal/reflect/DelegatingMethodAccessorImpl.invoke',\n",
       " 'jdk/internal/reflect/NativeMethodAccessorImpl.invoke',\n",
       " 'jdk/internal/reflect/NativeMethodAccessorImpl.invoke0',\n",
       " 'gk/Main.main',\n",
       " 'gk/Main$.main',\n",
       " 'scala/App$class.main',\n",
       " 'scala/collection/generic/TraversableForwarder$class.foreach',\n",
       " 'scala/collection/immutable/List.foreach',\n",
       " 'scala/App$$anonfun$main$1.apply',\n",
       " 'scala/App$$anonfun$main$1.apply',\n",
       " 'scala/runtime/AbstractFunction0.apply$mcV$sp',\n",
       " 'scala/Function0$class.apply$mcV$sp',\n",
       " 'gk/Main$delayedInit$body.apply',\n",
       " 'gk/Main$.delayedEndpoint$gk$Main$1',\n",
       " 'gk/Main$.run',\n",
       " 'scala/collection/AbstractIterator.foreach',\n",
       " 'scala/collection/Iterator$class.foreach',\n",
       " 'gk/Main$$anonfun$run$1.apply',\n",
       " 'gk/Main$$anonfun$run$1.apply',\n",
       " 'gk/GK.update',\n",
       " 'gk/GK.compress',\n",
       " 'scala/runtime/BoxesRunTime.boxToInteger',\n",
       " 'java/lang/Integer.valueOf 1']"
      ]
     },
     "execution_count": 5,
     "metadata": {},
     "output_type": "execute_result"
    }
   ],
   "source": [
    "s.split(';')"
   ]
  }
 ],
 "metadata": {
  "kernelspec": {
   "display_name": "Python 3 (ipykernel)",
   "language": "python",
   "name": "python3"
  },
  "language_info": {
   "codemirror_mode": {
    "name": "ipython",
    "version": 3
   },
   "file_extension": ".py",
   "mimetype": "text/x-python",
   "name": "python",
   "nbconvert_exporter": "python",
   "pygments_lexer": "ipython3",
   "version": "3.9.2"
  }
 },
 "nbformat": 4,
 "nbformat_minor": 5
}
